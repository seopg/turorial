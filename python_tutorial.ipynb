{
  "nbformat": 4,
  "nbformat_minor": 0,
  "metadata": {
    "colab": {
      "name": "python-tutorial.ipynb",
      "provenance": [],
      "collapsed_sections": []
    },
    "kernelspec": {
      "name": "python3",
      "display_name": "Python 3"
    },
    "language_info": {
      "name": "python"
    }
  },
  "cells": [
    {
      "cell_type": "code",
      "metadata": {
        "id": "vHbJTsMIIUE9"
      },
      "source": [
        "# 뇌를 자극하는 파이썬 예제\n",
        "# https://www.hanbit.co.kr/media/community/brain_default_board_view.html?bd_id=python&board_idx=19250&page=0\n",
        "\n",
        "# 자바와 파이썬의 차이\n",
        "# https://m.blog.naver.com/PostView.nhn?blogId=magnking&logNo=220907439135&proxyReferer=https:%2F%2Fwww.google.com%2F\n",
        "\n",
        "# 파이썬코딩 한시간만에 배우기\n",
        "# https://www.youtube.com/watch?v=M6kQTpIqpLs\n",
        "\n",
        "# numpy 예제\n",
        "# http://pythonstudy.xyz/python/article/402-numpy-%EC%82%AC%EC%9A%A9%ED%95%98%EA%B8%B0\n",
        "\n",
        "# pandas 예제\n",
        "# http://pythonstudy.xyz/python/article/408-pandas-%EB%8D%B0%EC%9D%B4%ED%83%80-%EB%B6%84%EC%84%9D\n",
        "\n",
        "# dataframe 예제\n",
        "# http://pythonstudy.xyz/python/article/408-pandas-%EB%8D%B0%EC%9D%B4%ED%83%80-%EB%B6%84%EC%84%9D\n",
        "\n",
        "# 케라스를 활용한 간단한 예제 살펴보기\n",
        "# https://cyc1am3n.github.io/2018/11/02/introduction-to-keras.html\n",
        "\n",
        "# 케라스 김태영 T아카데미 1,2강\n",
        "# https://www.youtube.com/watch?v=cJpjAmRO_h8\n",
        "# https://www.youtube.com/watch?v=IPR2bYFa6Rw\n",
        "# https://www.youtube.com/watch?v=QldOyLAQfVg\n",
        "\n",
        "# 케라스 김태영 블로그\n",
        "# https://tykimos.github.io/lecture/\n",
        "\n",
        "# 코딩셰프 케라스맛\n",
        "# https://github.com/jskDr/keraspp.git\n",
        "\n",
        "# 케라스 창시자에게서 배우는 딥러닝\n",
        "# https://github.com/gilbutITbook/006975\n",
        "\n",
        "# 코랩 소개\n",
        "# https://colab.research.google.com/notebooks/welcome.ipynb#scrollTo=C4HZx7Gndbrh\n",
        "\n",
        "# 코랩 끊김 방지\n",
        "# https://teddylee777.github.io/colab/google-colab-%EB%9F%B0%ED%83%80%EC%9E%84-%EC%97%B0%EA%B2%B0%EB%81%8A%EA%B9%80%EB%B0%A9%EC%A7%80\n",
        "\n",
        "# 이미지 분류\n",
        "# https://colab.research.google.com/github/tensorflow/hub/blob/master/examples/colab/tf2_image_retraining.ipynb#scrollTo=dlauq-4FWGZM\n",
        "\n",
        "\n",
        "\n",
        "\n",
        "\n",
        "\n"
      ],
      "execution_count": null,
      "outputs": []
    },
    {
      "cell_type": "code",
      "metadata": {
        "colab": {
          "base_uri": "https://localhost:8080/"
        },
        "id": "8bDyMh5KIicA",
        "outputId": "2dbeac57-f1c8-482e-b957-a57d32912e17"
      },
      "source": [
        "###########################################################################################################################################################\n",
        "\n",
        "# 파이썬 예제\n",
        "print(\"Hello, World.\")\n",
        "\n",
        "\n",
        "\n",
        "###########################################################################################################################################################\n"
      ],
      "execution_count": 1,
      "outputs": [
        {
          "output_type": "stream",
          "text": [
            "Hello, World.\n"
          ],
          "name": "stdout"
        }
      ]
    },
    {
      "cell_type": "code",
      "metadata": {
        "colab": {
          "base_uri": "https://localhost:8080/"
        },
        "id": "V_dKwnwWI4sR",
        "outputId": "6d49b755-1757-4b34-eb54-6f7c8646df3e"
      },
      "source": [
        "\n",
        "# 입력받아 연산\n",
        "print(\"첫 번째 수를 입력하세요. : \")\n",
        "a = input()\n",
        "print(\"두 번째 수를 입력하세요. : \")\n",
        "b = input()\n",
        "\n",
        "result = int(a) * int(b)\n",
        "\n",
        "print(\"{0} * {1} = {2}\".format(a, b, result))\n",
        "\n"
      ],
      "execution_count": 2,
      "outputs": [
        {
          "output_type": "stream",
          "text": [
            "첫 번째 수를 입력하세요. : \n",
            "1\n",
            "두 번째 수를 입력하세요. : \n",
            "2\n",
            "1 * 2 = 2\n"
          ],
          "name": "stdout"
        }
      ]
    },
    {
      "cell_type": "code",
      "metadata": {
        "id": "ur-cDR0VI7ux"
      },
      "source": [
        "\n",
        "###########################################################################################################################################################\n",
        "# 파이썬 예제\n",
        "for s in ['뇌를', '자극하는', '파이썬'] :\n",
        "    print(s)\n",
        "\n",
        "\n"
      ],
      "execution_count": null,
      "outputs": []
    },
    {
      "cell_type": "code",
      "metadata": {
        "id": "CME97YESI_CX"
      },
      "source": [
        "\n",
        "###########################################################################################################################################################\n",
        "# 파이썬 예제\n",
        "for s in '뇌를 자극하는 파이썬' :\n",
        "    print(s)\n",
        "\n",
        "\n"
      ],
      "execution_count": null,
      "outputs": []
    },
    {
      "cell_type": "code",
      "metadata": {
        "id": "MxvhaaJqJBfE"
      },
      "source": [
        "\n",
        "###########################################################################################################################################################\n",
        "# 파이썬 예제 for\n",
        "for i in (1, 2, 3) :\n",
        "\tprint(i)\n",
        "\n",
        "\n"
      ],
      "execution_count": null,
      "outputs": []
    },
    {
      "cell_type": "code",
      "metadata": {
        "id": "eG5B4QjzJEP0"
      },
      "source": [
        "\n",
        "###########################################################################################################################################################\n",
        "# 파이썬 예제 for range\n",
        "for i in range(1, 6) :\n",
        "        for j in range(i) :\n",
        "            print( \"*\", end = \"\", )\n",
        "        \n",
        "        print()\n",
        "\n"
      ],
      "execution_count": null,
      "outputs": []
    },
    {
      "cell_type": "code",
      "metadata": {
        "id": "AlkiIIXjJKLO"
      },
      "source": [
        "\n",
        "###########################################################################################################################################################\n",
        "import keras\n",
        "keras.__version__\n",
        "\n",
        "###########################################################################################################################################################\n",
        "# 쥬피터에서\n",
        "# ipynb 를 import 하기\n",
        "\n",
        "!pip install import_ipynb\n",
        "import import_ipynb\n",
        "!pwd\n",
        "%cd \"/content/drive/My Drive/Colab Notebooks\"\n",
        "\n"
      ],
      "execution_count": null,
      "outputs": []
    },
    {
      "cell_type": "code",
      "metadata": {
        "id": "Y66Yp1HuJNQH"
      },
      "source": [
        "\n",
        "\n",
        "import calculator\n",
        "\n",
        "print(calculator.plus(10, 5))\n",
        "print(calculator.minus(10, 5))\n",
        "print(calculator.multiply(10, 5))\n",
        "print(calculator.divide(10, 5))\n",
        "\n"
      ],
      "execution_count": null,
      "outputs": []
    },
    {
      "cell_type": "code",
      "metadata": {
        "id": "jZfYsDFpJSBu"
      },
      "source": [
        "\n",
        "\n",
        "###########################################################################################################################################################\n",
        "# numpy 예제\n",
        "\n",
        "import numpy as np\n",
        " \n",
        "list1 = [1, 2, 3, 4]\n",
        "a = np.array(list1)\n",
        "print(a.shape) # (4, )\n",
        " \n",
        "b = np.array([[1,2,3],[4,5,6]])\n",
        "print(b.shape) # (2, 3)\n",
        "print(b[0,0])  # 1  \n",
        "\n"
      ],
      "execution_count": null,
      "outputs": []
    },
    {
      "cell_type": "code",
      "metadata": {
        "id": "8GGJdpScJVXE"
      },
      "source": [
        "\n",
        "###########################################################################################################################################################\n",
        "import numpy as np\n",
        " \n",
        "a = np.zeros((2,2))\n",
        "print(a)\n",
        "# 출력:\n",
        "# [[ 0.  0.]\n",
        "#  [ 0.  0.]]\n",
        " \n",
        "a = np.ones((2,3))\n",
        "print(a)\n",
        "# 출력:\n",
        "# [[ 1.  1.  1.]\n",
        "#  [ 1.  1.  1.]]\n",
        " \n",
        "a = np.full((2,3), 5)\n",
        "print(a)\n",
        "# 출력:\n",
        "# [[5 5 5]\n",
        "#  [5 5 5]]\n",
        " \n",
        "a = np.eye(3)\n",
        "print(a)\n",
        "# 출력:\n",
        "# [[ 1.  0.  0.]\n",
        "#  [ 0.  1.  0.]\n",
        "#  [ 0.  0.  1.]]\n",
        " \n",
        "a = np.array(range(20)).reshape((4,5))\n",
        "print(a)\n",
        "# 출력:\n",
        "# [[ 0  1  2  3  4]\n",
        "#  [ 5  6  7  8  9]\n",
        "#  [10 11 12 13 14]\n",
        "#  [15 16 17 18 19]]\n"
      ],
      "execution_count": null,
      "outputs": []
    },
    {
      "cell_type": "code",
      "metadata": {
        "id": "f6PpffHwJXwQ"
      },
      "source": [
        "\n",
        "\n",
        "###########################################################################################################################################################\n",
        "# slice 예제\n",
        "a = ['a', 'b', 'c', 'd', 'e']\n",
        "\n",
        "print(\"a[ 1 :  ] = \",a[ 1 :  ])\n",
        "print(\"a[  : 2 ] = \",a[  : 2 ])\n",
        "print(\"a[ 2 : 4 ] = \",a[ 2 : 4 ])\n",
        "print(\"a[ : : 2 ] = \", a[ : : 2 ])\n"
      ],
      "execution_count": null,
      "outputs": []
    },
    {
      "cell_type": "code",
      "metadata": {
        "id": "F4p3w4hnJaoz"
      },
      "source": [
        "\n",
        "###########################################################################################################################################################\n",
        "# pandas 예제\n",
        "import pandas as pd\n",
        " \n",
        "data = {\n",
        "    'year': [2016, 2017, 2018],\n",
        "    'GDP rate': [2.8, 3.1, 3.0],\n",
        "    'GDP': ['1.637M', '1.73M', '1.83M']\n",
        "}\n",
        " \n",
        "df = pd.DataFrame(data)\n",
        "\n",
        "print(df)\n"
      ],
      "execution_count": null,
      "outputs": []
    },
    {
      "cell_type": "code",
      "metadata": {
        "id": "6J56h9lbJduz"
      },
      "source": [
        "\n",
        "###########################################################################################################################################################\n",
        "# 케라스 창시자에게서 배우는 딥러닝\n",
        "! git clone https://github.com/gilbutITbook/006975.git\n",
        "\n",
        "\n"
      ],
      "execution_count": null,
      "outputs": []
    },
    {
      "cell_type": "code",
      "metadata": {
        "id": "tLkwQKTIJg28"
      },
      "source": [
        "\n",
        "###########################################################################################################################################################\n",
        "# 코딩셰프 케라스맛\n",
        "! git clone https://github.com/jskDr/keraspp.git\n",
        "\n"
      ],
      "execution_count": null,
      "outputs": []
    },
    {
      "cell_type": "code",
      "metadata": {
        "id": "cj2-XNaIJjln"
      },
      "source": [
        "\n",
        "###########################################################################################################################################################\n",
        "# 코딩셰프 케라스맛\n",
        "import keras\n",
        "import numpy\n",
        "\n",
        "x = numpy.array([0, 1, 2, 3, 4])\n",
        "y = x * 2 + 1\n",
        "\n",
        "model = keras.models.Sequential()\n",
        "model.add(keras.layers.Dense(1, input_shape=(1,)))\n",
        "model.compile('SGD', 'mse')\n",
        "\n",
        "model.fit(x[:2], y[:2], epochs=1000, verbose=0)\n",
        "\n",
        "print('Targets:', y[2:])\n",
        "print('Predictions:', model.predict(x[2:]).flatten())\n",
        "\n"
      ],
      "execution_count": null,
      "outputs": []
    },
    {
      "cell_type": "code",
      "metadata": {
        "id": "x3ci5JZ8Jm-j"
      },
      "source": [
        "\n",
        "###########################################################################################################################################################\n",
        "# 코딩셰프 케라스맛 응용\n",
        "import keras\n",
        "import numpy\n",
        "\n",
        "x = numpy.array([(1,1), (1,2), (1,3), (1,4), (1,5)])\n",
        "for i in range(0, 5):\n",
        "  y[i] = x[i][0] * 2 + x[i][1] * 1\n",
        "\n",
        "model = keras.models.Sequential()\n",
        "model.add(keras.layers.Dense(4, input_shape=(2,)))\n",
        "model.add(keras.layers.Dense(3))\n",
        "model.add(keras.layers.Dense(1))\n",
        "model.compile('SGD', 'mse')\n",
        "\n",
        "print('x:', x[2:])\n",
        "\n",
        "model.fit(x[:2], y[:2], epochs=10000, verbose=0)\n",
        "\n",
        "print('Targets:', y[2:])\n",
        "print('Predictions:', model.predict(x[2:,:]))\n",
        "\n"
      ],
      "execution_count": null,
      "outputs": []
    },
    {
      "cell_type": "code",
      "metadata": {
        "id": "1qaLi3A0J48C"
      },
      "source": [
        "\n",
        "##############################################\n",
        "# Plotting\n",
        "##############################################\n",
        "import matplotlib.pyplot as plt\n",
        "\n",
        "\n",
        "def plot_acc(history, title=None):\n",
        "    # summarize history for accuracy\n",
        "    if not isinstance(history, dict):\n",
        "        history = history.history\n",
        "\n",
        "    plt.plot(history['acc'])\n",
        "    plt.plot(history['val_acc'])\n",
        "    if title is not None:\n",
        "        plt.title(title)\n",
        "    plt.ylabel('Accuracy')\n",
        "    plt.xlabel('Epoch')\n",
        "    plt.legend(['Training', 'Verification'], loc=0)\n",
        "    # plt.show()\n",
        "\n",
        "\n",
        "def plot_loss(history, title=None):\n",
        "    # summarize history for loss\n",
        "    if not isinstance(history, dict):\n",
        "        history = history.history\n",
        "\n",
        "    plt.plot(history['loss'])\n",
        "    plt.plot(history['val_loss'])\n",
        "    if title is not None:\n",
        "        plt.title(title)\n",
        "    plt.ylabel('Loss')\n",
        "    plt.xlabel('Epoch')\n",
        "    plt.legend(['Training', 'Verification'], loc=0)\n",
        "    # plt.show()\n",
        "\n",
        "\n",
        "##############################################\n",
        "# Main\n",
        "##############################################\n",
        "def main():\n",
        "    Nin = 784\n",
        "    Nh = 100\n",
        "    number_of_class = 10\n",
        "    Nout = number_of_class\n",
        "\n",
        "    # model = ANN_models_func(Nin, Nh, Nout)\n",
        "    # model = ANN_models_class(Nin, Nh, Nout)\n",
        "    model = ANN_seq_class(Nin, Nh, Nout)\n",
        "    (X_train, Y_train), (X_test, Y_test) = Data_func()\n",
        "\n",
        "    ##############################################\n",
        "    # Training\n",
        "    ##############################################\n",
        "    history = model.fit(X_train, Y_train, epochs=15, batch_size=100, validation_split=0.2)\n",
        "    performace_test = model.evaluate(X_test, Y_test, batch_size=100)\n",
        "    print('Test Loss and Accuracy ->', performace_test)\n",
        "\n",
        "    plot_loss(history)\n",
        "    plt.show()\n",
        "    #plot_acc(history)\n",
        "    #plt.show()\n",
        "\n",
        "\n",
        "# Run code\n",
        "if __name__ == '__main__':\n",
        "    main()\n",
        "\n"
      ],
      "execution_count": null,
      "outputs": []
    },
    {
      "cell_type": "code",
      "metadata": {
        "id": "lsFjHf2TKG42"
      },
      "source": [
        "\n",
        "###########################################################################################################################################################\n",
        "# 간단한 prediction 예제\n",
        "\n",
        "\n",
        "import keras\n",
        "import numpy\n",
        "\n",
        "x = numpy.array([0, 1, 2, 3, 4])\n",
        "y = x * 2 + 1\n",
        "\n",
        "model = keras.models.Sequential()\n",
        "model.add(keras.layers.Dense(1, input_shape=(1,)))\n",
        "model.compile('SGD', 'mse')\n",
        "\n",
        "model.fit(x[:2], y[:2], epochs=1000, verbose=0)\n",
        "\n",
        "print('Targets:', y[2:])\n",
        "print('Predictions:', model.predict(x[2:]).flatten())\n",
        "\n"
      ],
      "execution_count": null,
      "outputs": []
    },
    {
      "cell_type": "code",
      "metadata": {
        "id": "GHgKCHGWKaDY"
      },
      "source": [
        "###########################################################################################################################################################\n",
        "# rnn exam\n",
        "# https://github.com/alucard001/RNN-Example/blob/master/Keras%20RNN%20Example.ipynb\n",
        "\n",
        "from pandas import DataFrame\n",
        "from pandas import concat\n",
        "from keras.models import Sequential\n",
        "from keras.layers import Dense, Dropout\n",
        "from keras.layers import LSTM\n",
        "\n",
        "import numpy as np\n",
        "\n",
        "\n",
        "values = np.random.random((100, 2))\n",
        "\n",
        "input_train, target_train = values[0:70, 0], values[0:70, 1]\n",
        "input_test , target_test  = values[70:, 0], values[70:, 1]\n",
        "\n",
        "input_train = input_train.reshape(len(input_train), 1, 1)\n",
        "input_test = input_test.reshape(len(input_test), 1, 1)\n",
        "\n",
        "epochs = 10\n",
        "batchsize = 10\n",
        "timestep = 1\n",
        "input_dim = 1\n",
        "\n",
        "batchsize\n",
        "\n",
        "# Build model\n",
        "model = Sequential()\n",
        "model.add(LSTM(10, activation='sigmoid', batch_input_shape=(batchsize, timestep, input_dim), return_sequences=True, stateful=True))\n",
        "model.add(Dropout(0.5))\n",
        "model.add(LSTM(8, stateful=True))\n",
        "model.add(Dropout(0.5))\n",
        "model.add(Dense(1, activation='tanh'))\n",
        "model.compile(optimizer='rmsprop',\n",
        "              loss='mse', metrics=['accuracy'])\n",
        "\n",
        "\n",
        "# history = model.fit(inputs, y, epochs=100, batch_size=len(values), verbose=0)\n",
        "history = model.fit(input_train, target_train, epochs=epochs, \n",
        "                   batch_size=batchsize, shuffle=False,\n",
        "                   validation_data=(input_test, target_test))\n",
        "\n",
        "\n",
        "# new_values = np.random.random(100).reshape(100, 1, 1)\n",
        "predict = model.predict(input_test, batch_size=batchsize)\n",
        "\n",
        "import matplotlib.pyplot as plt \n",
        "plt.plot(input_test.reshape(30,1), color='red', label=\"input test\")\n",
        "plt.plot(predict.reshape(30,1), color='blue', label=\"prediction\")\n",
        "plt.plot(target_test.reshape(30,1), color='orange', label=\"target test\")\n",
        "plt.title(\"Random RNN\")\n",
        "plt.xlabel('X')\n",
        "plt.ylabel('Y')\n",
        "plt.legend()\n",
        "plt.show()\n",
        "\n"
      ],
      "execution_count": null,
      "outputs": []
    },
    {
      "cell_type": "code",
      "metadata": {
        "id": "wuE4-OR_KfnE"
      },
      "source": [
        "\n",
        "\n",
        "import pandas as pd\n",
        "import matplotlib.pyplot as plt\n",
        "import datetime\n",
        "from mpl_finance import candlestick_ohlc\n",
        "import matplotlib.dates as mdates\n",
        "from Investar import Analyzer\n",
        "import numpy as np\n",
        "\n",
        "mk = Analyzer.MarketDB()\n",
        "\n",
        "for keys in mk.codes:\n",
        "\n",
        "    print(f\"keys:{keys} company:{mk.codes[f'{keys}']}\")\n",
        "    \n",
        "df = mk.get_daily_price('삼성전자', '2021-06-18')\n",
        "print(f\"df:{df}\")\n"
      ],
      "execution_count": null,
      "outputs": []
    }
  ]
}