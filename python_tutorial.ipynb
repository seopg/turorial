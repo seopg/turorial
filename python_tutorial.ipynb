{
  "nbformat": 4,
  "nbformat_minor": 0,
  "metadata": {
    "colab": {
      "name": "python-tutorial.ipynb의 사본",
      "provenance": [],
      "collapsed_sections": []
    },
    "kernelspec": {
      "name": "python3",
      "display_name": "Python 3"
    },
    "language_info": {
      "name": "python"
    }
  },
  "cells": [
    {
      "cell_type": "code",
      "metadata": {
        "id": "vHbJTsMIIUE9"
      },
      "source": [
        "# 뇌를 자극하는 파이썬 예제\n",
        "# https://www.hanbit.co.kr/media/community/brain_default_board_view.html?bd_id=python&board_idx=19250&page=0\n",
        "\n",
        "# 자바와 파이썬의 차이\n",
        "# https://m.blog.naver.com/PostView.nhn?blogId=magnking&logNo=220907439135&proxyReferer=https:%2F%2Fwww.google.com%2F\n",
        "\n",
        "# 파이썬코딩 한시간만에 배우기\n",
        "# https://www.youtube.com/watch?v=M6kQTpIqpLs\n",
        "\n",
        "# numpy 예제\n",
        "# http://pythonstudy.xyz/python/article/402-numpy-%EC%82%AC%EC%9A%A9%ED%95%98%EA%B8%B0\n",
        "\n",
        "# pandas 예제\n",
        "# http://pythonstudy.xyz/python/article/408-pandas-%EB%8D%B0%EC%9D%B4%ED%83%80-%EB%B6%84%EC%84%9D\n",
        "\n",
        "# dataframe 예제\n",
        "# http://pythonstudy.xyz/python/article/408-pandas-%EB%8D%B0%EC%9D%B4%ED%83%80-%EB%B6%84%EC%84%9D\n",
        "\n",
        "# 케라스를 활용한 간단한 예제 살펴보기\n",
        "# https://cyc1am3n.github.io/2018/11/02/introduction-to-keras.html\n",
        "\n",
        "# 케라스 김태영 T아카데미 1,2강\n",
        "# https://www.youtube.com/watch?v=cJpjAmRO_h8\n",
        "# https://www.youtube.com/watch?v=IPR2bYFa6Rw\n",
        "# https://www.youtube.com/watch?v=QldOyLAQfVg\n",
        "\n",
        "# 케라스 김태영 블로그\n",
        "# https://tykimos.github.io/lecture/\n",
        "\n",
        "# 코딩셰프 케라스맛\n",
        "# https://github.com/jskDr/keraspp.git\n",
        "\n",
        "# 케라스 창시자에게서 배우는 딥러닝\n",
        "# https://github.com/gilbutITbook/006975\n",
        "\n",
        "# 코랩 소개\n",
        "# https://colab.research.google.com/notebooks/welcome.ipynb#scrollTo=C4HZx7Gndbrh\n",
        "\n",
        "# 코랩 끊김 방지\n",
        "# https://teddylee777.github.io/colab/google-colab-%EB%9F%B0%ED%83%80%EC%9E%84-%EC%97%B0%EA%B2%B0%EB%81%8A%EA%B9%80%EB%B0%A9%EC%A7%80\n",
        "\n",
        "# 이미지 분류\n",
        "# https://colab.research.google.com/github/tensorflow/hub/blob/master/examples/colab/tf2_image_retraining.ipynb#scrollTo=dlauq-4FWGZM\n",
        "\n",
        "\n",
        "\n",
        "\n",
        "\n",
        "\n"
      ],
      "execution_count": null,
      "outputs": []
    },
    {
      "cell_type": "code",
      "metadata": {
        "colab": {
          "base_uri": "https://localhost:8080/"
        },
        "id": "8bDyMh5KIicA",
        "outputId": "2dbeac57-f1c8-482e-b957-a57d32912e17"
      },
      "source": [
        "# 1번\n",
        "###########################################################################################################################################################\n",
        "\n",
        "print(\"Hello, World.\")\n",
        "\n",
        "\n",
        "\n",
        "###########################################################################################################################################################\n"
      ],
      "execution_count": null,
      "outputs": [
        {
          "output_type": "stream",
          "text": [
            "Hello, World.\n"
          ],
          "name": "stdout"
        }
      ]
    },
    {
      "cell_type": "code",
      "metadata": {
        "colab": {
          "base_uri": "https://localhost:8080/"
        },
        "id": "CcIL9Jk5yOOx",
        "outputId": "707af574-6ff7-4ffc-9bab-842b48f4d7a1"
      },
      "source": [
        "# 2번\n",
        "###########################################################################################################################################################\n",
        "\n",
        "a = 1\n",
        "b = 2\n",
        "\n",
        "c = a+b\n",
        "\n",
        "print(c)"
      ],
      "execution_count": 8,
      "outputs": [
        {
          "output_type": "stream",
          "text": [
            "3\n"
          ],
          "name": "stdout"
        }
      ]
    },
    {
      "cell_type": "code",
      "metadata": {
        "colab": {
          "base_uri": "https://localhost:8080/"
        },
        "id": "v13EQGXNytmo",
        "outputId": "b244fb3f-3a5f-4422-bc18-7519ebf80be2"
      },
      "source": [
        "# 3번\n",
        "###########################################################################################################################################################\n",
        "\n",
        "a = 1\n",
        "b = 2\n",
        "\n",
        "c = a+b\n",
        "\n",
        "print(\"a+b = \",c)\n",
        "# format 사용 print\n"
      ],
      "execution_count": 10,
      "outputs": [
        {
          "output_type": "stream",
          "text": [
            "a+b =  3\n"
          ],
          "name": "stdout"
        }
      ]
    },
    {
      "cell_type": "code",
      "metadata": {
        "colab": {
          "base_uri": "https://localhost:8080/"
        },
        "id": "CuvXTZ2DzKWS",
        "outputId": "1ceb0cf1-5562-4d99-bc21-7eb3da866729"
      },
      "source": [
        "# 4번\n",
        "###########################################################################################################################################################\n",
        "\n",
        "a = [0, 1, 2, 3, 5]\n",
        "print(a)\n",
        "print(min(a))\n",
        "# max, sum 도 출력 해보기"
      ],
      "execution_count": 16,
      "outputs": [
        {
          "output_type": "stream",
          "text": [
            "[0, 1, 2, 3, 5]\n",
            "0\n"
          ],
          "name": "stdout"
        }
      ]
    },
    {
      "cell_type": "code",
      "metadata": {
        "colab": {
          "base_uri": "https://localhost:8080/"
        },
        "id": "9yQEFUSR1DTI",
        "outputId": "41824a2c-54d8-46d0-b742-940f63b3fc85"
      },
      "source": [
        "# 5번\n",
        "###########################################################################################################################################################\n",
        "\n",
        "a = [0, 1, 2, 3, 4]\n",
        "print(a[0])\n",
        "print(a[1])\n",
        "print(a[4])\n",
        "print(a[-1])\n"
      ],
      "execution_count": 20,
      "outputs": [
        {
          "output_type": "stream",
          "text": [
            "0\n",
            "1\n",
            "4\n",
            "4\n"
          ],
          "name": "stdout"
        }
      ]
    },
    {
      "cell_type": "code",
      "metadata": {
        "colab": {
          "base_uri": "https://localhost:8080/"
        },
        "id": "D3n0mTjR7OTQ",
        "outputId": "ed30422e-1b88-4708-9ffd-61bdd6b9ac38"
      },
      "source": [
        "# 6번\n",
        "###########################################################################################################################################################\n",
        "\n",
        "a = [0, 1, 2, 3, 4]\n",
        "print(a[2:4])\n",
        "print(a[0:1])\n"
      ],
      "execution_count": 24,
      "outputs": [
        {
          "output_type": "stream",
          "text": [
            "[2, 3]\n",
            "[0, 1, 2, 3, 4]\n"
          ],
          "name": "stdout"
        }
      ]
    },
    {
      "cell_type": "code",
      "metadata": {
        "colab": {
          "base_uri": "https://localhost:8080/"
        },
        "id": "rq-lqyVB7xNh",
        "outputId": "cd1df8da-6f8b-481e-a3c8-a41d5ed057f6"
      },
      "source": [
        "# 7번\n",
        "###########################################################################################################################################################\n",
        "\n",
        "a = {\"시작가\":70,\"종가\":50, \"최고가\":100, \"거래량\":200}\n",
        "print(a)\n",
        "\n",
        "print(a['최고가'])\n",
        "#print(f\"최고가:{a['최고가']}\")"
      ],
      "execution_count": 30,
      "outputs": [
        {
          "output_type": "stream",
          "text": [
            "{'시가': 70, '종가': 50, '최고가': 100, '거래량': 200}\n",
            "100\n",
            "최고가:100\n"
          ],
          "name": "stdout"
        }
      ]
    },
    {
      "cell_type": "code",
      "metadata": {
        "colab": {
          "base_uri": "https://localhost:8080/"
        },
        "id": "rsr91Ew29GhB",
        "outputId": "375d6414-26fd-476a-c3ce-d029ec863a3d"
      },
      "source": [
        "# 8번\n",
        "###########################################################################################################################################################\n",
        "\n",
        "a = {\"시작가\":70,\"종가\":50, \"최고가\":70, \"거래량\":200}\n",
        "print(a)\n",
        "\n",
        "if a['최고가'] >= 100:\n",
        "  print(\"매도\")\n",
        "elif a['최고가'] >= 80:\n",
        "  print(\"관망\")\n",
        "else:\n",
        "  print(\"매수\")"
      ],
      "execution_count": 35,
      "outputs": [
        {
          "output_type": "stream",
          "text": [
            "{'시작가': 70, '종가': 50, '최고가': 70, '거래량': 200}\n",
            "매수\n"
          ],
          "name": "stdout"
        }
      ]
    },
    {
      "cell_type": "code",
      "metadata": {
        "colab": {
          "base_uri": "https://localhost:8080/"
        },
        "id": "udBkj_KO_HUw",
        "outputId": "f2872c58-69f9-4b4f-cacc-2fb4c9f58ea4"
      },
      "source": [
        "# 9번\n",
        "###########################################################################################################################################################\n",
        "\n",
        "for i in range(5):\n",
        "  print(\"*****\")"
      ],
      "execution_count": 36,
      "outputs": [
        {
          "output_type": "stream",
          "text": [
            "*****\n",
            "*****\n",
            "*****\n",
            "*****\n",
            "*****\n"
          ],
          "name": "stdout"
        }
      ]
    },
    {
      "cell_type": "code",
      "metadata": {
        "colab": {
          "base_uri": "https://localhost:8080/"
        },
        "id": "3SG6Ia4h_lYO",
        "outputId": "5f8e29d3-105c-48a5-ddb1-620a63d5bd3f"
      },
      "source": [
        "# 10번\n",
        "###########################################################################################################################################################\n",
        "\n",
        "a = [0, 1, 2, 3, 4]\n",
        "\n",
        "for i in a:\n",
        "  if i%2 == 0:\n",
        "    continue\n",
        "  print(f\"a[{i}] = {a[i]}\")\n"
      ],
      "execution_count": 40,
      "outputs": [
        {
          "output_type": "stream",
          "text": [
            "a[1] = 1\n",
            "a[3] = 3\n"
          ],
          "name": "stdout"
        }
      ]
    },
    {
      "cell_type": "code",
      "metadata": {
        "colab": {
          "base_uri": "https://localhost:8080/"
        },
        "id": "4IMT_THCAftX",
        "outputId": "e132706a-8d9d-489f-e97e-038dc9653941"
      },
      "source": [
        "# 11번\n",
        "###########################################################################################################################################################\n",
        "\n",
        "def plus(a, b):\n",
        "  return a+b\n",
        "\n",
        "\n",
        "a = 1\n",
        "b = 2\n",
        "print(\"a+b = \", plus(a,b))"
      ],
      "execution_count": 42,
      "outputs": [
        {
          "output_type": "stream",
          "text": [
            "a+b =  3\n"
          ],
          "name": "stdout"
        }
      ]
    },
    {
      "cell_type": "code",
      "metadata": {
        "colab": {
          "base_uri": "https://localhost:8080/"
        },
        "id": "4N-jHdtFA73R",
        "outputId": "6828c99d-eca7-418a-aaef-6198e9ad3eb1"
      },
      "source": [
        "# 12번\n",
        "###########################################################################################################################################################\n",
        "\n",
        "import pandas\n",
        "\n",
        "data = {'삼성전자' : [2000, 2100, 2300, 2500, 2600, 2400, 2700, 2800, 3000],\n",
        "        '현대자동차' : [3000, 3100, 3300, 3500, 3600, 3400, 3700, 3800, 4000],\n",
        "        'NAVER' : [4000, 4100, 4300, 4500, 4600, 4400, 4700, 4800, 5000]}\n",
        "\n",
        "df = pandas.DataFrame(data)\n",
        "print(df)\n",
        "\n",
        "print(df.loc[1, '삼성전자'])"
      ],
      "execution_count": 49,
      "outputs": [
        {
          "output_type": "stream",
          "text": [
            "   삼성전자  현대자동차  NAVER\n",
            "0  2000   3000   4000\n",
            "1  2100   3100   4100\n",
            "2  2300   3300   4300\n",
            "3  2500   3500   4500\n",
            "4  2600   3600   4600\n",
            "5  2400   3400   4400\n",
            "6  2700   3700   4700\n",
            "7  2800   3800   4800\n",
            "8  3000   4000   5000\n",
            "2100\n"
          ],
          "name": "stdout"
        }
      ]
    },
    {
      "cell_type": "code",
      "metadata": {
        "colab": {
          "base_uri": "https://localhost:8080/"
        },
        "id": "nEscVW2yEe_5",
        "outputId": "699658a6-6954-468c-a95b-4b3288781ef8"
      },
      "source": [
        "# 13번\n",
        "###########################################################################################################################################################\n",
        "\n",
        "import pandas\n",
        "\n",
        "data = {'삼성전자' : [2000, 2100, 2200, 2300, 2400, 2500, 2600, 2700, 2800],\n",
        "        '현대자동차' : [3000, 3100, 3300, 3500, 3600, 3400, 3700, 3800, 4000],\n",
        "        'NAVER' : [4000, 4100, 4300, 4500, 4600, 4400, 4700, 4800, 5000]}\n",
        "\n",
        "df = pandas.DataFrame(data)\n",
        "print(df)\n",
        "\n",
        "r = df['삼성전자'].rolling(2)\n",
        "print(r.mean())\n",
        "\n",
        "\n",
        "r2 = df['삼성전자'].ewm(span = 2)\n",
        "r3= df['삼성전자'].ewm(span = 3)\n",
        "print(r2.mean())\n",
        "print(r3.mean())\n",
        "\n",
        "macd = r2.mean() - r3.mean()\n",
        "print(macd)\n"
      ],
      "execution_count": 69,
      "outputs": [
        {
          "output_type": "stream",
          "text": [
            "   삼성전자  현대자동차  NAVER\n",
            "0  2000   3000   4000\n",
            "1  2100   3100   4100\n",
            "2  2200   3300   4300\n",
            "3  2300   3500   4500\n",
            "4  2400   3600   4600\n",
            "5  2500   3400   4400\n",
            "6  2600   3700   4700\n",
            "7  2700   3800   4800\n",
            "8  2800   4000   5000\n",
            "0       NaN\n",
            "1    2050.0\n",
            "2    2150.0\n",
            "3    2250.0\n",
            "4    2350.0\n",
            "5    2450.0\n",
            "6    2550.0\n",
            "7    2650.0\n",
            "8    2750.0\n",
            "Name: 삼성전자, dtype: float64\n",
            "   삼성전자  현대자동차  NAVER\n",
            "0  2000   3000   4000\n",
            "1  2100   3100   4100\n",
            "2  2200   3300   4300\n",
            "3  2300   3500   4500\n",
            "4  2400   3600   4600\n",
            "5  2500   3400   4400\n",
            "6  2600   3700   4700\n",
            "7  2700   3800   4800\n",
            "8  2800   4000   5000\n",
            "0    2000.000000\n",
            "1    2075.000000\n",
            "2    2161.538462\n",
            "3    2255.000000\n",
            "4    2352.066116\n",
            "5    2450.824176\n",
            "6    2550.320220\n",
            "7    2650.121951\n",
            "8    2750.045727\n",
            "Name: 삼성전자, dtype: float64\n",
            "0    2000.000000\n",
            "1    2066.666667\n",
            "2    2142.857143\n",
            "3    2226.666667\n",
            "4    2316.129032\n",
            "5    2409.523810\n",
            "6    2505.511811\n",
            "7    2603.137255\n",
            "8    2701.761252\n",
            "Name: 삼성전자, dtype: float64\n",
            "0     0.000000\n",
            "1     8.333333\n",
            "2    18.681319\n",
            "3    28.333333\n",
            "4    35.937083\n",
            "5    41.300366\n",
            "6    44.808409\n",
            "7    46.984696\n",
            "8    48.284475\n",
            "Name: 삼성전자, dtype: float64\n"
          ],
          "name": "stdout"
        }
      ]
    },
    {
      "cell_type": "code",
      "metadata": {
        "colab": {
          "base_uri": "https://localhost:8080/"
        },
        "id": "CuNs_0V0Si1Z",
        "outputId": "86d2d5db-0fb9-44cd-9835-9c9058ee3507"
      },
      "source": [
        "# 14번\n",
        "###########################################################################################################################################################\n",
        "\n",
        "import pandas\n",
        "\n",
        "data = {'숫자' : [1,0,4,3, 5, 2]}\n",
        "df = pandas.DataFrame(data)\n",
        "dmap = {0:'영', 1:'일', 2:'이', 3:'삼', 4:'사', 5:'오'}\n",
        "\n",
        "print(\"변환전\")\n",
        "print(df)\n",
        "df = df['숫자'].map(dmap)\n",
        "\n",
        "print(\"변환후\")\n",
        "print(df)"
      ],
      "execution_count": 67,
      "outputs": [
        {
          "output_type": "stream",
          "text": [
            "변환전\n",
            "   숫자\n",
            "0   1\n",
            "1   0\n",
            "2   4\n",
            "3   3\n",
            "4   5\n",
            "5   2\n",
            "변환후\n",
            "0    일\n",
            "1    영\n",
            "2    사\n",
            "3    삼\n",
            "4    오\n",
            "5    이\n",
            "Name: 숫자, dtype: object\n"
          ],
          "name": "stdout"
        }
      ]
    },
    {
      "cell_type": "code",
      "metadata": {
        "colab": {
          "base_uri": "https://localhost:8080/",
          "height": 265
        },
        "id": "qMOpmj8qVgMs",
        "outputId": "e635af36-8bda-4695-cc20-e89d264b5fa1"
      },
      "source": [
        "# 15번\n",
        "###########################################################################################################################################################\n",
        "\n",
        "from matplotlib import pyplot as plt\n",
        " \n",
        "plt.plot([1,2,3], [110,130,120])\n",
        "plt.show()"
      ],
      "execution_count": 70,
      "outputs": [
        {
          "output_type": "display_data",
          "data": {
            "image/png": "[encoded data removed]",
            "text/plain": [
              "<Figure size 432x288 with 1 Axes>"
            ]
          },
          "metadata": {
            "tags": [],
            "needs_background": "light"
          }
        }
      ]
    },
    {
      "cell_type": "code",
      "metadata": {
        "colab": {
          "base_uri": "https://localhost:8080/",
          "height": 295
        },
        "id": "9i5VreWQWA_r",
        "outputId": "671730f3-4856-44ff-8531-dfb0cc8c4b2b"
      },
      "source": [
        "# 16번\n",
        "###########################################################################################################################################################\n",
        "\n",
        "from matplotlib import pyplot as plt\n",
        " \n",
        "plt.plot([1,2,3], [110,130,120])\n",
        "plt.plot([2,3,4], [210,30,170])\n",
        "plt.xlabel('day')\n",
        "plt.ylabel('price')\n",
        "plt.title('Naver')\n",
        "plt.legend(['5day', '20day'])\n",
        "plt.show()"
      ],
      "execution_count": 75,
      "outputs": [
        {
          "output_type": "display_data",
          "data": {
            "image/png": "[encoded data removed]",
            "text/plain": [
              "<Figure size 432x288 with 1 Axes>"
            ]
          },
          "metadata": {
            "tags": [],
            "needs_background": "light"
          }
        }
      ]
    }
  ]
}